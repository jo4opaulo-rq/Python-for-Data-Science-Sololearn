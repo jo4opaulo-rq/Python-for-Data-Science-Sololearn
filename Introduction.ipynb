{
 "cells": [
  {
   "cell_type": "code",
   "execution_count": 1,
   "id": "8807f363",
   "metadata": {},
   "outputs": [],
   "source": [
    "import numpy\n"
   ]
  },
  {
   "cell_type": "code",
   "execution_count": 23,
   "id": "a5f5305d",
   "metadata": {},
   "outputs": [
    {
     "data": {
      "text/plain": [
       "33.111111111111114"
      ]
     },
     "execution_count": 23,
     "metadata": {},
     "output_type": "execute_result"
    }
   ],
   "source": [
    "media = numpy.mean([14, 18, 19, 24, 26, 33, 42, 55, 67])\n",
    "media"
   ]
  },
  {
   "cell_type": "code",
   "execution_count": 24,
   "id": "ba68c3dc",
   "metadata": {},
   "outputs": [
    {
     "data": {
      "text/plain": [
       "292.5432098765432"
      ]
     },
     "execution_count": 24,
     "metadata": {},
     "output_type": "execute_result"
    }
   ],
   "source": [
    "variancia = numpy.var([14, 18, 19, 24, 26, 33, 42, 55, 67])\n",
    "variancia"
   ]
  },
  {
   "cell_type": "code",
   "execution_count": 25,
   "id": "bc1ad7b8",
   "metadata": {},
   "outputs": [
    {
     "data": {
      "text/plain": [
       "17.10389458212787"
      ]
     },
     "execution_count": 25,
     "metadata": {},
     "output_type": "execute_result"
    }
   ],
   "source": [
    "desvio_padrao = numpy.std([14, 18, 19, 24, 26, 33, 42, 55, 67])\n",
    "desvio_padrao"
   ]
  },
  {
   "cell_type": "raw",
   "id": "6ac2c65a",
   "metadata": {},
   "source": [
    "Um desvio padrão baixo indica que os valores tendem a estar próximos da média do conjunto, enquanto um desvio de alto padrão indica que os valores estão espalhados por uma faixa mais ampla."
   ]
  },
  {
   "cell_type": "markdown",
   "id": "94baed2c",
   "metadata": {},
   "source": [
    "Exemplo 1\n",
    " Qual seria o desvio padrão para um conjunto de dados contendo o mesmo valor? ‎(for example: [2, 2, 2, 2])"
   ]
  },
  {
   "cell_type": "code",
   "execution_count": 27,
   "id": "27577e37",
   "metadata": {},
   "outputs": [
    {
     "data": {
      "text/plain": [
       "0.0"
      ]
     },
     "execution_count": 27,
     "metadata": {},
     "output_type": "execute_result"
    }
   ],
   "source": [
    "# 1\n",
    "desvio = numpy.std([2, 2, 2, 2])\n",
    "desvio"
   ]
  },
  {
   "cell_type": "markdown",
   "id": "05fccc45",
   "metadata": {},
   "source": [
    "# Exercícios "
   ]
  },
  {
   "cell_type": "code",
   "execution_count": 28,
   "id": "044bfaf1",
   "metadata": {},
   "outputs": [
    {
     "data": {
      "text/plain": [
       "3.0"
      ]
     },
     "execution_count": 28,
     "metadata": {},
     "output_type": "execute_result"
    }
   ],
   "source": [
    "# What is the mean of the following values? [1, 2, 3, 4, 5]\n",
    "media1 = numpy.mean([1, 2, 3, 4, 5])\n",
    "media1"
   ]
  },
  {
   "cell_type": "code",
   "execution_count": 29,
   "id": "5bf9707e",
   "metadata": {},
   "outputs": [
    {
     "data": {
      "text/plain": [
       "0.0"
      ]
     },
     "execution_count": 29,
     "metadata": {},
     "output_type": "execute_result"
    }
   ],
   "source": [
    "# What is the standard deviation for the following data? [8, 8, 8, 8, 8]\n",
    "desvio1 = numpy.std([8, 8, 8, 8, 8])\n",
    "desvio1"
   ]
  },
  {
   "cell_type": "code",
   "execution_count": 30,
   "id": "3f39bc40",
   "metadata": {},
   "outputs": [
    {
     "data": {
      "text/plain": [
       "3.5"
      ]
     },
     "execution_count": 30,
     "metadata": {},
     "output_type": "execute_result"
    }
   ],
   "source": [
    "# What is the median value? [6, 5, 4, 3, 2, 1]\n",
    "mediana = numpy.median([6, 5, 4, 3, 2, 1])\n",
    "mediana\n"
   ]
  },
  {
   "cell_type": "code",
   "execution_count": 37,
   "id": "66059f64",
   "metadata": {},
   "outputs": [
    {
     "data": {
      "text/plain": [
       "13.0"
      ]
     },
     "execution_count": 37,
     "metadata": {},
     "output_type": "execute_result"
    }
   ],
   "source": [
    "# In a dart game, you hit 5 points once, 10 points 2 times, 20 points 2 times. \n",
    "# What is the average number of points you hit per attempt?\n",
    "pont_media = numpy.mean([5, 10, 10, 20, 20])\n",
    "pont_media\n"
   ]
  },
  {
   "cell_type": "markdown",
   "id": "e804b25a",
   "metadata": {},
   "source": [
    "# Desafio\n",
    "## Jogadores de Basquete\n",
    "O código dado inclui uma lista de alturas para vários jogadores de basquete.\n",
    "Você precisa calcular e produzir quantos jogadores estão na faixa de um desvio padrão da média"
   ]
  },
  {
   "cell_type": "code",
   "execution_count": 38,
   "id": "f07159a5",
   "metadata": {},
   "outputs": [
    {
     "name": "stdout",
     "output_type": "stream",
     "text": [
      "6\n"
     ]
    }
   ],
   "source": [
    "players = [180, 172, 178, 185, 190, 195, 192, 200, 210, 190]\n",
    "mean = sum(players)/len(players)\n",
    "stdvar = (sum((v-mean)**2 for v in players)/len(players))**0.5\n",
    "\n",
    "low, high = mean-stdvar,mean+stdvar\n",
    "\n",
    "count = len([v for v in players if low < v < high])\n",
    "\n",
    "print(count)\n"
   ]
  },
  {
   "cell_type": "code",
   "execution_count": null,
   "id": "99963cae",
   "metadata": {},
   "outputs": [],
   "source": []
  }
 ],
 "metadata": {
  "kernelspec": {
   "display_name": "Python 3 (ipykernel)",
   "language": "python",
   "name": "python3"
  },
  "language_info": {
   "codemirror_mode": {
    "name": "ipython",
    "version": 3
   },
   "file_extension": ".py",
   "mimetype": "text/x-python",
   "name": "python",
   "nbconvert_exporter": "python",
   "pygments_lexer": "ipython3",
   "version": "3.9.5"
  }
 },
 "nbformat": 4,
 "nbformat_minor": 5
}
