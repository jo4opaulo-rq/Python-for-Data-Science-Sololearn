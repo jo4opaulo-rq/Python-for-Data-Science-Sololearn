{
 "cells": [
  {
   "cell_type": "code",
   "execution_count": 1,
   "id": "817f3527",
   "metadata": {},
   "outputs": [],
   "source": [
    "import numpy"
   ]
  },
  {
   "cell_type": "code",
   "execution_count": 3,
   "id": "68f10d07",
   "metadata": {},
   "outputs": [],
   "source": [
    "desvio_padrao = numpy.var([14, 18, 19, 24, 26, 33, 42, 55, 67])"
   ]
  },
  {
   "cell_type": "code",
   "execution_count": null,
   "id": "bc350a78",
   "metadata": {},
   "outputs": [],
   "source": []
  }
 ],
 "metadata": {
  "kernelspec": {
   "display_name": "Python 3 (ipykernel)",
   "language": "python",
   "name": "python3"
  },
  "language_info": {
   "codemirror_mode": {
    "name": "ipython",
    "version": 3
   },
   "file_extension": ".py",
   "mimetype": "text/x-python",
   "name": "python",
   "nbconvert_exporter": "python",
   "pygments_lexer": "ipython3",
   "version": "3.9.5"
  }
 },
 "nbformat": 4,
 "nbformat_minor": 5
}
