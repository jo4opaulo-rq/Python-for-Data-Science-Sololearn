{
 "cells": [
  {
   "cell_type": "code",
   "execution_count": 1,
   "id": "e56c6a89",
   "metadata": {},
   "outputs": [],
   "source": [
    "import numpy as np"
   ]
  },
  {
   "cell_type": "code",
   "execution_count": 2,
   "id": "681cc276",
   "metadata": {},
   "outputs": [
    {
     "name": "stdout",
     "output_type": "stream",
     "text": [
      "1\n"
     ]
    }
   ],
   "source": [
    "# criando uma matriz e verificando\n",
    "x = np.array([1, 2, 3, 4]) \n",
    "print(x[0])"
   ]
  },
  {
   "cell_type": "code",
   "execution_count": 3,
   "id": "2d128d03",
   "metadata": {},
   "outputs": [
    {
     "name": "stdout",
     "output_type": "stream",
     "text": [
      "11\n"
     ]
    }
   ],
   "source": [
    "# Fill in the blanks to define a valid numpy array and output its 3rd element:\n",
    "\n",
    "a = np.array([42, 33, 11, 8, 1])\n",
    "\n",
    "print(a[2])"
   ]
  },
  {
   "cell_type": "code",
   "execution_count": 4,
   "id": "bcdafdc8",
   "metadata": {},
   "outputs": [
    {
     "name": "stdout",
     "output_type": "stream",
     "text": [
      "9\n"
     ]
    }
   ],
   "source": [
    "x = np.array([[1, 2, 3], [4, 5, 6], [7, 8, 9]])\n",
    " \n",
    "print(x[2][2])"
   ]
  },
  {
   "cell_type": "code",
   "execution_count": null,
   "id": "fcd96480",
   "metadata": {},
   "outputs": [],
   "source": [
    "x = np.array([[1, 2, 3], [4, 5, 6], [7, 8, 9]]) \n",
    "print(x.ndim) # 2\n",
    "print(x.size) # 9\n",
    "print(x.shape) # (3, 3)"
   ]
  },
  {
   "cell_type": "code",
   "execution_count": 38,
   "id": "6465225c",
   "metadata": {},
   "outputs": [
    {
     "name": "stdout",
     "output_type": "stream",
     "text": [
      "[2 1 3 1 2 3]\n"
     ]
    }
   ],
   "source": [
    "# adicionando elemento\n",
    "\n",
    "z = np.array([2, 1, 3])\n",
    "\n",
    "z = np.append(z, [1, 2, 3])\n",
    "print(z)"
   ]
  },
  {
   "cell_type": "code",
   "execution_count": 39,
   "id": "108ecae7",
   "metadata": {},
   "outputs": [
    {
     "name": "stdout",
     "output_type": "stream",
     "text": [
      "[1 3 2 3]\n"
     ]
    }
   ],
   "source": [
    "# deletando elemnto\n",
    "z = np.delete(z, [0, 3])\n",
    "print(z)"
   ]
  },
  {
   "cell_type": "code",
   "execution_count": 40,
   "id": "ac03d049",
   "metadata": {},
   "outputs": [
    {
     "name": "stdout",
     "output_type": "stream",
     "text": [
      "[1 2 3 3]\n"
     ]
    }
   ],
   "source": [
    "# ordenar elementos\n",
    "z = np.sort(z)\n",
    "print(z)"
   ]
  },
  {
   "cell_type": "code",
   "execution_count": 44,
   "id": "4459b9c3",
   "metadata": {},
   "outputs": [
    {
     "name": "stdout",
     "output_type": "stream",
     "text": [
      "[ 2  4  6  8 10 12]\n"
     ]
    }
   ],
   "source": [
    "# gerando uma matriz\n",
    "z1 = np.arange(2, 14, 2)\n",
    "print(z1)"
   ]
  },
  {
   "cell_type": "code",
   "execution_count": 45,
   "id": "56e81faa",
   "metadata": {},
   "outputs": [
    {
     "name": "stdout",
     "output_type": "stream",
     "text": [
      "3\n"
     ]
    }
   ],
   "source": [
    "x = np.arange(2, 8, 2)\n",
    "#x = np.append(x, x.size)\n",
    "\n",
    "# x = np.sort(x)\n",
    "# print(x[1])\n",
    "x"
   ]
  },
  {
   "cell_type": "code",
   "execution_count": null,
   "id": "d7ba7c51",
   "metadata": {},
   "outputs": [],
   "source": []
  }
 ],
 "metadata": {
  "kernelspec": {
   "display_name": "Python 3 (ipykernel)",
   "language": "python",
   "name": "python3"
  },
  "language_info": {
   "codemirror_mode": {
    "name": "ipython",
    "version": 3
   },
   "file_extension": ".py",
   "mimetype": "text/x-python",
   "name": "python",
   "nbconvert_exporter": "python",
   "pygments_lexer": "ipython3",
   "version": "3.9.5"
  }
 },
 "nbformat": 4,
 "nbformat_minor": 5
}
